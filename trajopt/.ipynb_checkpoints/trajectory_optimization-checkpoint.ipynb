{
 "cells": [
  {
   "cell_type": "markdown",
   "metadata": {
    "id": "zeqkVVN1s4bM"
   },
   "source": [
    "## Assignment 3\n",
    "#### Trajectory Optimization and RRT\n",
    "Hi, we are going to solve a complete robotic manipulation task with cheat perception. The aim of this notebook is to introduce you to the technical background necessary to perform trajectory optimisation on real robots with dynamic models and obstacles in your application scenarios. There is no task to complete, but you should try to understand as many details as possible by playing with the code."
   ]
  },
  {
   "cell_type": "markdown",
   "metadata": {
    "id": "sdod_dPRs4bQ"
   },
   "source": [
    "In this notebook we use a popular symbolic optimisation framework names casadi, here is the full docs if you want to check its usage.\n",
    "https://web.casadi.org/docs/  \n",
    "Complied with pinocchio as we used in the first assignment, we can generate rigid body kinematics / dynamics models for our 3-link planar robot problem."
   ]
  },
  {
   "cell_type": "code",
   "execution_count": 1,
   "metadata": {
    "colab": {
     "base_uri": "https://localhost:8080/",
     "height": 383
    },
    "id": "0ZkxziFss4bR",
    "outputId": "74cfa666-f289-4b6b-e375-2ba712b03b31"
   },
   "outputs": [],
   "source": [
    "import time\n",
    "import casadi\n",
    "import pinocchio as pin\n",
    "import numpy as np\n",
    "from pinocchio import casadi as cpin\n",
    "from visualizer import MeshcatVisualizer"
   ]
  },
  {
   "cell_type": "markdown",
   "metadata": {
    "id": "woZynJG7s4bU"
   },
   "source": [
    "Let's import our robot and visualise it in the meshcat interactive renderer."
   ]
  },
  {
   "cell_type": "code",
   "execution_count": 2,
   "metadata": {
    "id": "9UbQzi8gs4bU",
    "outputId": "035e906a-7285-488a-ba3e-8e79d420fc4e"
   },
   "outputs": [
    {
     "name": "stderr",
     "output_type": "stream",
     "text": [
      "/home/jiayun/Desktop/pendulum_env.py:15: UserWarning: This function has been marked as deprecated and will be removed in a future release.\n",
      "  geom_base = pin.GeometryObject(\"base\", 0, shape_base, pin.SE3.Identity())\n",
      "/home/jiayun/Desktop/pendulum_env.py:36: UserWarning: This function has been marked as deprecated and will be removed in a future release.\n",
      "  geom1_obj = pin.GeometryObject(geom1_name, joint_id, shape1, body_placement)\n",
      "/home/jiayun/Desktop/pendulum_env.py:45: UserWarning: This function has been marked as deprecated and will be removed in a future release.\n",
      "  geom2_obj = pin.GeometryObject(geom2_name, joint_id, shape2, shape2_placement)\n"
     ]
    },
    {
     "name": "stdout",
     "output_type": "stream",
     "text": [
      "You can open the visualizer by visiting the following URL:\n",
      "http://127.0.0.1:7000/static/\n"
     ]
    },
    {
     "data": {
      "text/html": [
       "\n",
       "            <div style=\"height: 400px; width: 100%; overflow-x: auto; overflow-y: hidden; resize: both\">\n",
       "            <iframe src=\"http://127.0.0.1:7000/static/\" style=\"width: 100%; height: 100%; border: none\"></iframe>\n",
       "            </div>\n",
       "            "
      ],
      "text/plain": [
       "<IPython.core.display.HTML object>"
      ]
     },
     "execution_count": 2,
     "metadata": {},
     "output_type": "execute_result"
    }
   ],
   "source": [
    "from pendulum_env import NPendulum\n",
    "pen = NPendulum(3) # 3 link pendulum\n",
    "viz = MeshcatVisualizer(model=pen.model, visual_model=pen.geom_model, collision_model=pen.geom_model)\n",
    "\n",
    "# Display a robot configuration.\n",
    "q0 = pin.neutral(pen.model)\n",
    "viz.display(q0)\n",
    "viz.viewer.jupyter_cell()"
   ]
  },
  {
   "cell_type": "markdown",
   "metadata": {
    "id": "QpuGkED2s4bU"
   },
   "source": [
    "We can use the pin.aba to call the articulated body algorithm to compute its joint acceleration under a predefined control signal."
   ]
  },
  {
   "cell_type": "code",
   "execution_count": 3,
   "metadata": {
    "id": "iy7j-XvJs4bU"
   },
   "outputs": [],
   "source": [
    "dt = 0.01\n",
    "T = 7\n",
    "\n",
    "N = int(np.floor(T/dt))\n",
    "\n",
    "data_sim = pen.model.createData()\n",
    "geom_data = pin.GeometryData(pen.geom_model)\n",
    "\n",
    "t = 0.\n",
    "q = pin.randomConfiguration(pen.model)\n",
    "v = np.zeros((pen.model.nv))\n",
    "tau_control = np.zeros((pen.model.nv))\n",
    "damping_value = 0.1\n",
    "for k in range(N):\n",
    "\n",
    "    tic = time.time()\n",
    "    tau_control = -damping_value * v # small damping\n",
    "    a = pin.aba(pen.model,data_sim,q,v,tau_control) # Forward dynamics\n",
    "\n",
    "    # Semi-explicit integration\n",
    "    v += a*dt\n",
    "    q = pin.integrate(pen.model,q,v*dt) # Configuration integration\n",
    "\n",
    "    viz.display(q)\n",
    "    toc = time.time()\n",
    "    ellapsed = toc - tic\n",
    "\n",
    "    dt_sleep = max(0,dt - (ellapsed))\n",
    "    time.sleep(dt_sleep)\n",
    "    t += dt"
   ]
  },
  {
   "cell_type": "markdown",
   "metadata": {
    "id": "ptX8KeW5s4bV"
   },
   "source": [
    "Let's find an interesting initial configuration to continue our planning task."
   ]
  },
  {
   "cell_type": "code",
   "execution_count": 4,
   "metadata": {
    "id": "YrlJR52zs4bV"
   },
   "outputs": [],
   "source": [
    "# q = pin.randomConfiguration(pen.model)\n",
    "q = np.array([2.81480423, 0.11725295, 2.39162303])\n",
    "viz.display(q)"
   ]
  },
  {
   "cell_type": "markdown",
   "metadata": {
    "id": "KXOsQgvRs4bV"
   },
   "source": [
    "Let's generate the model and data container as we did in first assignment."
   ]
  },
  {
   "cell_type": "code",
   "execution_count": 5,
   "metadata": {
    "id": "XhsFfGkSs4bW"
   },
   "outputs": [],
   "source": [
    "rmodel = pen.model\n",
    "rdata = rmodel.createData()\n",
    "# q = pin.randomConfiguration(rmodel)\n",
    "# pin.forwardKinematics(rmodel, rdata, q)\n",
    "# rdata.oMi[3]"
   ]
  },
  {
   "cell_type": "code",
   "execution_count": 6,
   "metadata": {
    "id": "_KDUzhtws4bW"
   },
   "outputs": [],
   "source": [
    "# add a red box to indicate the goal postition for end-effector.\n",
    "boxID = \"world/box\"\n",
    "viz.addBox(boxID, [0.05, 0.1, 0.2], [1.0, 0.2, 0.2, 0.5])\n",
    "# Add a vizualisation for the tip of the arm.\n",
    "tipID = \"world/blue\"\n",
    "viz.addBox(tipID, [0.2] * 3, [0.5, 0.2, 1.0, 0.5])"
   ]
  },
  {
   "cell_type": "markdown",
   "metadata": {
    "id": "T03Us0T1s4bW"
   },
   "source": [
    "We generate six black spheres dubbed as obstacles, that we may meet in real life, in the scene to make this problem more meaningful."
   ]
  },
  {
   "cell_type": "code",
   "execution_count": 7,
   "metadata": {
    "id": "YSN-rBCos4bX"
   },
   "outputs": [],
   "source": [
    "from types import SimpleNamespace\n",
    "ob_radius = 0.125\n",
    "obstacles = []\n",
    "obstacles.append(SimpleNamespace(radius=ob_radius, pos=np.array([-0., 1. , 0.75]), name=f\"obs_1\"))\n",
    "obstacles.append(SimpleNamespace(radius=ob_radius, pos=np.array([-0., 1. , 0.]), name=f\"obs_2\"))\n",
    "obstacles.append(SimpleNamespace(radius=ob_radius, pos=np.array([-0., 1. , 1.]), name=f\"obs_3\"))\n",
    "obstacles.append(SimpleNamespace(radius=ob_radius, pos=np.array([-0., 1. , 0.25]), name=f\"obs_4\"))\n",
    "obstacles.append(SimpleNamespace(radius=ob_radius, pos=np.array([-0., 1. , -0.25]), name=f\"obs_5\"))\n",
    "obstacles.append(SimpleNamespace(radius=ob_radius, pos=np.array([-0., 1. , 1.25]), name=f\"obs_6\"))\n",
    "\n",
    "for io, o in enumerate(obstacles):\n",
    "    viz.addSphere(f\"obs_{io}\", o.radius, [0.1, 0.1, 0.1, 0.9])"
   ]
  },
  {
   "cell_type": "markdown",
   "metadata": {
    "id": "RBcjC62es4bX"
   },
   "source": [
    "Let's define the final position our robot."
   ]
  },
  {
   "cell_type": "code",
   "execution_count": 8,
   "metadata": {
    "id": "mTsc8Cp-s4bX"
   },
   "outputs": [],
   "source": [
    "Mtarget = pin.SE3(pin.utils.rotate(\"y\", 3), np.array([-0., 1.3, 0.5]))  # x,y,z"
   ]
  },
  {
   "cell_type": "markdown",
   "metadata": {
    "id": "ou7rUarAs4bX"
   },
   "source": [
    "You can check the frames attached to the robot through the following method. The frame corresponding to our endeffector is ball_3."
   ]
  },
  {
   "cell_type": "code",
   "execution_count": 9,
   "metadata": {
    "id": "v1AVXEnus4bX",
    "outputId": "42c5acf4-f12d-44b7-aaa1-f469d7ec44b4"
   },
   "outputs": [
    {
     "name": "stdout",
     "output_type": "stream",
     "text": [
      "frame 0: universe\n",
      "frame 1: joint_1\n",
      "frame 2: joint_2\n",
      "frame 3: joint_3\n",
      "frame 4: ball_3\n"
     ]
    }
   ],
   "source": [
    "for k,frame in enumerate(pen.model.frames):\n",
    "    print(\"frame {}: {}\".format(k,frame.name))"
   ]
  },
  {
   "cell_type": "markdown",
   "metadata": {
    "id": "yRDzcH_Ps4bY"
   },
   "source": [
    "You can get the frameID of the end-effector like this"
   ]
  },
  {
   "cell_type": "code",
   "execution_count": 10,
   "metadata": {
    "id": "VJRlKq5Fs4bY",
    "outputId": "6dfa480a-e9d7-44ad-818a-9ce190a2828c"
   },
   "outputs": [
    {
     "data": {
      "text/plain": [
       "5"
      ]
     },
     "execution_count": 10,
     "metadata": {},
     "output_type": "execute_result"
    }
   ],
   "source": [
    "endEffector_ID = pen.model.getFrameId(\"ball3\")\n",
    "endEffector_ID"
   ]
  },
  {
   "cell_type": "markdown",
   "metadata": {
    "id": "xRprxZnks4bY"
   },
   "source": [
    "Let's write some helper functions to render the progress of optimisation algorithms."
   ]
  },
  {
   "cell_type": "code",
   "execution_count": 11,
   "metadata": {
    "id": "Y1Ofqccys4bY"
   },
   "outputs": [],
   "source": [
    "def displayScene(q, dt=1e-1):\n",
    "    \"\"\"\n",
    "    Given the robot configuration, display:\n",
    "    - the robot\n",
    "    - a box representing endEffector_ID\n",
    "    - a box representing Mtarget\n",
    "    \"\"\"\n",
    "    pin.framesForwardKinematics(rmodel, rdata, q)\n",
    "    M = rdata.oMf[endEffector_ID-1]\n",
    "    viz.applyConfiguration(boxID, Mtarget)\n",
    "    viz.applyConfiguration(tipID, M)\n",
    "\n",
    "    for io, o in enumerate(obstacles):\n",
    "        viz.applyConfiguration(f\"obs_{io}\", pin.SE3(np.eye(3), o.pos))\n",
    "    viz.display(q)\n",
    "    time.sleep(dt)\n",
    "\n",
    "def displayTraj(qs, dt=5e-2):\n",
    "    for q in qs[1:]:\n",
    "        displayScene(q, dt=dt)\n",
    "\n",
    "displayScene(q)"
   ]
  },
  {
   "cell_type": "markdown",
   "metadata": {
    "id": "7Gh1U6oGs4bZ"
   },
   "source": [
    "### Part 1: Trajectory optimization with multiple-shooting method and implicit Euler integration.\n",
    "You should check the class slides to know what does multiple-shooting means.\n",
    "For implicit Eula integration we could check this wiki: https://en.wikipedia.org/wiki/Backward_Euler_method#:~:text=In%20numerical%20analysis%20and%20scientific,it%20is%20an%20implicit%20method.\n",
    "\n",
    "We gonna code this optmization problem:\n",
    "$$\\begin{aligned}\\min_{x_t,u_t} \\sum_{t=1}^{T} &l(x_t,u_t) + L(x_T)\\\\ &x_{t+1} = f(x_t,t_t)\\\\ &u_t \\in \\mathcal{U},\\, \\forall t=1,...,T\\\\\n",
    "&x_t \\in \\mathcal{X}, \\forall t=1,...,T\\end{aligned}$$\n",
    "All the states and control should lay inside admissable region and the evolution of states should follow the physics."
   ]
  },
  {
   "cell_type": "markdown",
   "metadata": {
    "id": "8L3q2Klis4bZ"
   },
   "source": [
    "Let's define the discretization interval and total duration of our trajectory."
   ]
  },
  {
   "cell_type": "code",
   "execution_count": 12,
   "metadata": {
    "id": "vf_4Bus7s4bZ"
   },
   "outputs": [],
   "source": [
    "T = 50\n",
    "DT = 0.05"
   ]
  },
  {
   "cell_type": "markdown",
   "metadata": {
    "id": "ZER7zOLKs4bZ"
   },
   "source": [
    "We then use pinocchio to generate the dynamic models (symbolic representation as you may check) and declare the dimension of our optimisation problem."
   ]
  },
  {
   "cell_type": "code",
   "execution_count": 13,
   "metadata": {
    "id": "78bLrd_qs4bZ"
   },
   "outputs": [],
   "source": [
    "cmodel = cpin.Model(pen.model)\n",
    "cdata = cmodel.createData()\n",
    "\n",
    "nq = pen.model.nq # num of joints\n",
    "nv = pen.model.nv # num of actuators\n",
    "nx = nq + nv # state space is [q, dq]\n",
    "ndx = 2 * nv # state differentiation is [dq, ddq]\n",
    "cx = casadi.SX.sym(\"x\", nx, 1)\n",
    "cdx = casadi.SX.sym(\"dx\", nv * 2, 1)\n",
    "cq = cx[:nq]\n",
    "cv = cx[nq:]\n",
    "caq = casadi.SX.sym(\"a\", nv, 1) # joint acceleration\n",
    "ctauq = casadi.SX.sym(\"tau\", nv, 1) # joint torque\n",
    "\n",
    "# Compute kinematics/dynamics casadi graphs\n",
    "cpin.aba(cmodel, cdata, cq, cv, ctauq)\n",
    "cpin.forwardKinematics(cmodel, cdata, cq, cv, caq)\n",
    "cpin.updateFramePlacements(cmodel, cdata)"
   ]
  },
  {
   "cell_type": "markdown",
   "metadata": {
    "id": "jIWj4vbLs4ba"
   },
   "source": [
    "The beuty of trajectory optimization is we can handle torque limits explicitly !"
   ]
  },
  {
   "cell_type": "code",
   "execution_count": 14,
   "metadata": {
    "id": "YZMi5X2hs4ba"
   },
   "outputs": [],
   "source": [
    "effort_limit = casadi.MX(rmodel.effortLimit) # get the torque limit of this robot"
   ]
  },
  {
   "cell_type": "markdown",
   "metadata": {
    "id": "sdWehsGys4ba"
   },
   "source": [
    "Get the forward dynamics model through aba algorithm. This casadi.Function can be called for symbolic input or numpy array."
   ]
  },
  {
   "cell_type": "code",
   "execution_count": 15,
   "metadata": {
    "id": "Or1yH5avs4ba"
   },
   "outputs": [],
   "source": [
    "caba = casadi.Function(\"aba\", [cx, ctauq], [cdata.ddq]) # (name, [input variables], [result])"
   ]
  },
  {
   "cell_type": "markdown",
   "metadata": {
    "id": "ezEIOBXds4ba"
   },
   "source": [
    "We implement implicit euler integration also as a casadi function."
   ]
  },
  {
   "cell_type": "code",
   "execution_count": 16,
   "metadata": {
    "id": "f8Beg44as4ba"
   },
   "outputs": [],
   "source": [
    "cnext = casadi.Function(\n",
    "    \"next\",\n",
    "    [cx, caq],\n",
    "    [\n",
    "        casadi.vertcat(\n",
    "            cpin.integrate(cmodel, cx[:nq], cx[nq:] * DT + caq * DT**2),\n",
    "            cx[nq:] + caq * DT,\n",
    "        )\n",
    "    ],\n",
    ")"
   ]
  },
  {
   "cell_type": "markdown",
   "metadata": {
    "id": "tC8rKD-6s4ba"
   },
   "source": [
    "The end-effector position error function:"
   ]
  },
  {
   "cell_type": "code",
   "execution_count": 17,
   "metadata": {
    "id": "vOTnHW3Bs4bb"
   },
   "outputs": [],
   "source": [
    "error_tool = casadi.Function(\n",
    "    \"etool3\", [cx], [cdata.oMf[endEffector_ID-1].translation - Mtarget.translation]\n",
    ")"
   ]
  },
  {
   "cell_type": "markdown",
   "metadata": {
    "id": "Aht5IPtxs4bb"
   },
   "source": [
    "e_pos function: the method we will use to compute the obstales' position in the endeffector frame!\n",
    "$$cdata.oMi[3].inverse() = ^{tip}T_{task}$$"
   ]
  },
  {
   "cell_type": "code",
   "execution_count": 18,
   "metadata": {
    "id": "NVX8miU-s4bb"
   },
   "outputs": [],
   "source": [
    "cpos = casadi.SX.sym(\"p\", 3)\n",
    "    # Position of the obstacle cpos in the ellipse frame. You can regard this as a \"placeholder\".\n",
    "\n",
    "e_pos = casadi.Function(\n",
    "    \"e_pos\", [cq, cpos], [cdata.oMi[3].inverse().act(casadi.SX(cpos))]\n",
    ")"
   ]
  },
  {
   "cell_type": "markdown",
   "metadata": {
    "id": "NR0GDlJCs4bb"
   },
   "source": [
    "The decision variable we will use in the optimization problem. You can understand them as some \"pytorch\" style computational graph building blocks."
   ]
  },
  {
   "cell_type": "code",
   "execution_count": 19,
   "metadata": {
    "id": "fzP2Xg8js4bb"
   },
   "outputs": [],
   "source": [
    "opti = casadi.Opti()\n",
    "var_xs = [opti.variable(nx) for t in range(T + 1)]\n",
    "var_as = [opti.variable(nv) for t in range(T)]\n",
    "var_us = [opti.variable(nv) for t in range(T)]"
   ]
  },
  {
   "cell_type": "code",
   "execution_count": 20,
   "metadata": {
    "id": "_TVe1vQms4bm"
   },
   "outputs": [],
   "source": [
    "totalcost = 0\n",
    "# Define the running cost\n",
    "for t in range(T):\n",
    "    totalcost += 1e-3 * DT * casadi.sumsqr(var_xs[t][nq:])\n",
    "    totalcost += 1e-3 * DT * casadi.sumsqr(var_as[t])\n",
    "\n",
    "    # totalcost += 1e-3 * DT * casadi.sumsqr(var_us[t])   # You may explore how the trajectory can be changed if we use other optimality indicator\n",
    "totalcost += 1e4 * casadi.sumsqr(error_tool(var_xs[T]))"
   ]
  },
  {
   "cell_type": "markdown",
   "metadata": {
    "id": "leZyZlvLs4bm"
   },
   "source": [
    "Define the initial constraints."
   ]
  },
  {
   "cell_type": "code",
   "execution_count": 21,
   "metadata": {
    "id": "gXqKx7M-s4bn"
   },
   "outputs": [],
   "source": [
    "opti.subject_to(var_xs[0][:nq] == q)\n",
    "opti.subject_to(var_xs[0][nq:] == 0)  # zero initial velocity\n",
    "opti.subject_to(var_xs[T][nq:] == 0)  # zero terminal velocity"
   ]
  },
  {
   "cell_type": "markdown",
   "metadata": {
    "id": "f8pFxH0Xs4bn"
   },
   "source": [
    "Define the dynamic constraints."
   ]
  },
  {
   "cell_type": "code",
   "execution_count": 22,
   "metadata": {
    "id": "IPOT7BKls4bn"
   },
   "outputs": [],
   "source": [
    "for t in range(T):\n",
    "    opti.subject_to(caba(var_xs[t], var_us[t]) == var_as[t])\n",
    "    opti.subject_to(cnext(var_xs[t], var_as[t]) == var_xs[t + 1])"
   ]
  },
  {
   "cell_type": "markdown",
   "metadata": {
    "id": "5sFLLlaFs4bn"
   },
   "source": [
    "The torque limit constraints."
   ]
  },
  {
   "cell_type": "code",
   "execution_count": 23,
   "metadata": {
    "id": "GLhEQlsIs4bn"
   },
   "outputs": [],
   "source": [
    "for t in range(T):\n",
    "    opti.subject_to(var_us[t] <= effort_limit)\n",
    "    opti.subject_to(var_us[t] >= - effort_limit)"
   ]
  },
  {
   "cell_type": "markdown",
   "metadata": {
    "id": "MLTHU5yms4bn"
   },
   "source": [
    "The \"ball\" attached on the end-effector is defined in the last joint coordinate, with placement [0,0,1], we need the following constant to help us defining obstacle constraints."
   ]
  },
  {
   "cell_type": "code",
   "execution_count": 24,
   "metadata": {
    "id": "raK8T_25s4bn"
   },
   "outputs": [],
   "source": [
    "body_placement = pin.SE3.Identity().translation\n",
    "body_placement[2] = 1."
   ]
  },
  {
   "cell_type": "markdown",
   "metadata": {
    "id": "S2fJK_LOs4bn"
   },
   "source": [
    "The definition of obstacle constraints. We can check whether the end-effector will incurr collisions along this trajectory.  \n",
    "With\n",
    "$$(x-y)^T R(x-y) \\leq 1,$$\n",
    "you can check if a point y is inside of outside of an ellipse locates at x with its contour matrix R. For a sphere, the R is diagonal with each entry as $\\frac{1}{r^2}$, where $r$ is its radius."
   ]
  },
  {
   "cell_type": "code",
   "execution_count": 25,
   "metadata": {
    "id": "wQ6kRapJs4bo"
   },
   "outputs": [],
   "source": [
    "end_effector_radius = 0.1\n",
    "obstacle_radius = 0.1\n",
    "for t in range(T):\n",
    "    for o in obstacles:\n",
    "        # obstacle position in ellipsoid (joint) frame\n",
    "        pos_in_jointF = e_pos(var_xs[t][:nq], o.pos)\n",
    "        opti.subject_to((pos_in_jointF-body_placement).T @ np.eye(3) * 1/((end_effector_radius+obstacle_radius)**2) @ (pos_in_jointF - body_placement) >= 1.)"
   ]
  },
  {
   "cell_type": "markdown",
   "metadata": {
    "id": "YfPOKsgas4bo"
   },
   "source": [
    "Then you are ready to solve this optimization problem, and you can check the result at each iteration through the meshcat renderer!"
   ]
  },
  {
   "cell_type": "code",
   "execution_count": null,
   "metadata": {
    "id": "ghkmUqIis4bo",
    "outputId": "fe178d15-edf7-4b38-be82-c0d638e36e59",
    "scrolled": true
   },
   "outputs": [
    {
     "name": "stdout",
     "output_type": "stream",
     "text": [
      "\n",
      "******************************************************************************\n",
      "This program contains Ipopt, a library for large-scale nonlinear optimization.\n",
      " Ipopt is released as open source code under the Eclipse Public License (EPL).\n",
      "         For more information visit https://github.com/coin-or/Ipopt\n",
      "******************************************************************************\n",
      "\n",
      "This is Ipopt version 3.14.16, running with linear solver MUMPS 5.7.2.\n",
      "\n",
      "Number of nonzeros in equality constraint Jacobian...:     2559\n",
      "Number of nonzeros in inequality constraint Jacobian.:     1200\n",
      "Number of nonzeros in Lagrangian Hessian.............:     1356\n",
      "\n",
      "Total number of variables............................:      606\n",
      "                     variables with only lower bounds:        0\n",
      "                variables with lower and upper bounds:        0\n",
      "                     variables with only upper bounds:        0\n",
      "Total number of equality constraints.................:      459\n",
      "Total number of inequality constraints...............:      600\n",
      "        inequality constraints with only lower bounds:      450\n",
      "   inequality constraints with lower and upper bounds:        0\n",
      "        inequality constraints with only upper bounds:      150\n",
      "\n",
      "iter    objective    inf_pr   inf_du lg(mu)  ||d||  lg(rg) alpha_du alpha_pr  ls\n",
      "   0  7.9400000e+04 2.81e+00 1.00e+02  -1.0 0.00e+00    -  0.00e+00 0.00e+00   0\n",
      "   1  7.7678438e+04 8.78e+00 1.71e+02  -1.0 4.21e+02  -2.0 1.05e-01 1.18e-01f  1\n",
      "   2  7.7697401e+04 8.69e+00 1.76e+02  -1.0 4.43e+02  -0.7 1.95e-01 9.71e-03h  1\n",
      "   3  7.7772571e+04 9.93e+00 2.65e+02  -1.0 4.52e+02  -1.1 2.01e-01 3.59e-02h  2\n",
      "   4  7.7941469e+04 1.77e+01 1.11e+03  -1.0 4.51e+02  -0.7 2.47e-01 6.75e-02H  1\n",
      "   5  7.8092852e+04 2.02e+01 2.08e+03  -1.0 4.36e+02  -0.3 2.83e-01 4.21e-02h  1\n",
      "   6  7.8225391e+04 2.13e+01 3.94e+03  -1.0 4.46e+02   0.1 1.40e-01 3.14e-02h  1\n",
      "   7  7.8378426e+04 2.26e+01 1.18e+04  -1.0 4.20e+02   0.6 1.95e-02 3.83e-02h  1\n",
      "   8  7.8433998e+04 2.25e+01 1.45e+04  -1.0 3.90e+02   1.0 6.99e-02 1.72e-02h  1\n",
      "   9  7.8490229e+04 2.24e+01 2.28e+04  -1.0 3.74e+02   1.4 2.93e-01 1.95e-02h  1\n",
      "iter    objective    inf_pr   inf_du lg(mu)  ||d||  lg(rg) alpha_du alpha_pr  ls\n",
      "  10  7.8490296e+04 2.22e+01 2.26e+04  -1.0 4.22e+02   0.9 6.17e-02 5.27e-03h  4\n",
      "  11  7.8510506e+04 2.20e+01 3.97e+04  -1.0 3.45e+02   1.4 3.96e-01 9.04e-03h  3\n",
      "  12  7.8507246e+04 2.19e+01 3.79e+04  -1.0 4.64e+02   0.9 6.35e-02 3.78e-03h  7\n",
      "  13  7.8541128e+04 2.14e+01 4.67e+04  -1.0 3.89e+02   1.3 3.92e-01 1.77e-02h  4\n",
      "  14  7.8527838e+04 2.11e+01 4.55e+04  -1.0 4.55e+02   0.8 2.36e-02 9.19e-03h  6\n",
      "  15  7.8566184e+04 2.01e+01 4.45e+04  -1.0 3.43e+02   1.3 4.55e-03 2.89e-02h  4\n",
      "  16  7.8558172e+04 1.91e+01 3.73e+04  -1.0 4.04e+02   0.8 1.27e-01 2.46e-02h  5\n",
      "  17  7.8646465e+04 1.48e+01 5.63e+04  -1.0 2.94e+02   1.2 6.73e-01 8.36e-02h  3\n",
      "  18  7.8785276e+04 7.02e+00 1.85e+05  -1.0 1.89e+02   1.6 1.17e-01 1.53e-01h  3\n",
      "  19  7.8815024e+04 6.51e+00 1.65e+05  -1.0 1.96e+02   1.2 3.81e-01 5.43e-02h  4\n",
      "iter    objective    inf_pr   inf_du lg(mu)  ||d||  lg(rg) alpha_du alpha_pr  ls\n",
      "  20  7.9054798e+04 1.01e+02 7.91e+05  -1.0 1.94e+02   1.6 1.41e-01 5.44e-01w  1\n",
      "  21  7.9034628e+04 9.19e+01 7.56e+05  -1.0 1.36e+02   2.0 2.92e-03 8.13e-02w  1\n",
      "  22  7.8668603e+04 1.80e+02 3.88e+06  -1.0 1.44e+02   1.5 6.17e-03 8.31e-01h  1\n",
      "  23  7.8651594e+04 1.49e+02 3.45e+06  -1.0 7.84e+02   1.0 4.62e-04 4.81e-02f  1\n",
      "  24  7.8575247e+04 3.96e+01 4.86e+05  -1.0 4.71e+01   1.5 1.83e-03 1.00e+00f  1\n",
      "  25  7.8787254e+04 7.56e+00 1.50e+05  -1.0 1.84e+01   1.0 7.93e-01 1.00e+00h  1\n",
      "  26  7.8844755e+04 1.45e-01 5.20e+03  -1.0 2.58e+00   1.4 9.59e-01 1.00e+00h  1\n",
      "  27  7.8842098e+04 4.00e-04 2.11e+01  -1.0 6.68e-02   0.9 9.86e-01 1.00e+00h  1\n",
      "  28  7.8835049e+04 3.02e-05 3.58e-01  -1.0 1.21e-01   0.5 1.00e+00 1.00e+00f  1\n",
      "  29  7.8812615e+04 4.35e-05 4.91e-02  -1.7 4.99e-02  -0.0 1.00e+00 1.00e+00h  1\n",
      "iter    objective    inf_pr   inf_du lg(mu)  ||d||  lg(rg) alpha_du alpha_pr  ls\n",
      "  30  7.8744535e+04 3.85e-04 4.93e-02  -2.5 1.50e-01  -0.5 1.00e+00 1.00e+00f  1\n",
      "  31  7.8538168e+04 3.56e-03 4.97e-02  -2.5 4.55e-01  -1.0 1.00e+00 1.00e+00f  1\n",
      "  32  7.7899698e+04 3.46e-02 5.09e-02  -2.5 1.40e+00  -1.4 1.00e+00 1.00e+00f  1\n",
      "  33  7.5810185e+04 3.71e-01 1.50e-01  -2.5 4.46e+00  -1.9 1.00e+00 1.00e+00f  1\n",
      "  34  6.8293081e+04 4.01e+00 1.67e+00  -2.5 1.49e+01  -2.4 1.00e+00 1.00e+00f  1\n",
      "  35  4.6512777e+04 2.06e+01 9.59e+00  -2.5 4.10e+01  -2.9 1.00e+00 1.00e+00f  1\n",
      "  36  3.8890265e+04 2.15e+01 8.72e+00  -2.5 9.96e+01  -3.3 8.89e-01 1.66e-01f  1\n",
      "  37  3.8823016e+04 2.13e+01 8.65e+00  -2.5 2.62e+01  -2.9 1.00e+00 8.06e-03h  1\n",
      "  38  3.8358936e+04 1.93e+00 5.14e-01  -2.5 1.84e+01  -2.5 1.00e+00 1.00e+00h  1\n",
      "  39  2.8867752e+04 3.64e+00 1.22e+00  -2.5 2.83e+01  -3.0 1.00e+00 8.30e-01f  1\n",
      "iter    objective    inf_pr   inf_du lg(mu)  ||d||  lg(rg) alpha_du alpha_pr  ls\n",
      "  40  2.8654789e+04 3.60e+00 1.21e+00  -2.5 5.95e+01  -3.4 1.00e+00 9.17e-03h  1\n",
      "  41  2.0008688e+04 5.69e+00 1.00e+00  -2.5 2.31e+01  -3.0 1.00e+00 1.00e+00f  1\n",
      "  42  1.7526370e+04 5.18e-01 6.76e-02  -2.5 7.83e+00  -2.6 1.00e+00 1.00e+00h  1\n",
      "  43  1.4089988e+04 6.73e-01 1.21e-01  -2.5 2.04e+01  -3.1 1.00e+00 5.19e-01f  1\n",
      "  44  1.1116040e+04 1.06e+00 1.71e-01  -2.5 4.37e+01  -3.6 1.00e+00 2.49e-01f  1\n",
      "  45  1.0789289e+04 9.89e-01 1.60e-01  -2.5 1.65e+01  -3.1 1.00e+00 7.57e-02h  1\n",
      "  46  8.0297017e+03 2.88e+00 1.06e+01  -2.5 2.34e+01  -3.6 6.94e-01 6.82e-01f  1\n",
      "  47  7.1352823e+03 1.18e+01 1.05e+01  -2.5 5.04e+02  -3.2 3.03e-03 3.84e-02h  1\n",
      "  48  7.0579780e+03 9.72e+00 8.14e+00  -2.5 1.18e+01  -2.8 5.75e-01 1.95e-01h  1\n",
      "  49  6.6200955e+03 7.56e+00 5.84e+00  -2.5 2.13e+01  -3.2 6.33e-02 3.79e-01h  1\n",
      "iter    objective    inf_pr   inf_du lg(mu)  ||d||  lg(rg) alpha_du alpha_pr  ls\n",
      "  50  6.1571990e+03 6.09e+00 3.76e+00  -2.5 1.14e+01  -2.8 1.10e-01 1.98e-01h  1\n",
      "  51  5.0676859e+03 2.07e+00 3.00e+01  -2.5 1.24e+01  -2.4 9.00e-02 9.08e-01h  1\n",
      "  52  4.9496050e+03 1.44e+00 1.99e+01  -2.5 3.34e+00  -2.9 7.48e-01 3.04e-01h  1\n",
      "  53  4.2759128e+03 1.90e-01 1.24e+01  -2.5 7.67e+00  -3.3 8.77e-01 1.00e+00h  1\n",
      "  54  3.6290032e+03 4.00e-01 9.97e+00  -2.5 2.41e+01  -3.8 2.68e-01 1.96e-01f  1\n",
      "  55  3.5773910e+03 3.03e-01 7.65e+00  -2.5 2.89e+00  -4.3 1.26e-01 2.43e-01h  1\n",
      "  56  2.9410259e+03 4.52e+00 8.45e+00  -2.5 1.42e+02  -3.9 2.03e-02 9.17e-02f  1\n",
      "  57  2.6423776e+03 4.57e+00 7.78e+00  -2.5 1.79e+03  -4.3 1.57e-03 1.64e-03f  1\n",
      "  58  2.5126156e+03 4.07e+00 6.93e+00  -2.5 1.38e+01  -3.0 2.87e-03 1.23e-01h  1\n",
      "  59  2.3288126e+03 1.00e+00 7.01e-01  -2.5 5.54e+00  -2.6 7.50e-01 1.00e+00h  1\n",
      "iter    objective    inf_pr   inf_du lg(mu)  ||d||  lg(rg) alpha_du alpha_pr  ls\n",
      "  60  1.0561161e+03 1.65e+01 2.18e+00  -2.5 1.58e+01  -3.1 1.00e+00 8.61e-01h  1\n",
      "  61  7.0915481e+02 1.15e+01 1.64e+00  -2.5 2.17e+01  -3.5 1.67e-02 3.44e-01h  1\n",
      "  62  5.4064638e+02 9.78e+00 1.54e+00  -2.5 5.29e+01  -4.0 1.43e-01 1.06e-01h  1\n",
      "  63  4.4960693e+02 6.46e+00 2.01e+00  -2.5 1.13e+01  -3.6 2.58e-01 3.79e-01h  1\n",
      "  64  1.6360076e+02 6.18e+00 9.99e-01  -2.5 6.60e+01  -4.1 4.91e-03 1.40e-01h  1\n",
      "  65  3.8016557e+02 2.35e+00 1.68e+00  -2.5 7.35e+00  -3.6 7.91e-01 1.00e+00h  1\n",
      "  66  2.3066301e+02 4.60e-01 9.05e-01  -2.5 2.92e+00  -3.2 5.48e-01 1.00e+00h  1\n",
      "  67  1.0732329e+02 4.70e-01 9.03e-02  -2.5 6.25e+00  -3.7 1.00e+00 1.00e+00h  1\n",
      "  68  3.0989384e+01 1.05e+00 5.87e-01  -2.5 1.06e+01  -4.2 9.99e-01 1.00e+00h  1\n",
      "  69  1.2472960e+01 3.05e+00 4.03e-01  -2.5 2.37e+01  -4.6 6.16e-01 7.64e-01h  1\n",
      "iter    objective    inf_pr   inf_du lg(mu)  ||d||  lg(rg) alpha_du alpha_pr  ls\n",
      "  70  4.6186307e+01 4.70e+00 1.75e+00  -2.5 3.75e+01  -5.1 9.85e-01 1.00e+00h  1\n",
      "  71  8.9890140e+00 6.36e+00 3.22e-01  -2.5 2.96e+01  -5.6 1.00e+00 1.00e+00h  1\n",
      "  72  3.6823686e+01 6.72e+01 1.08e+00  -2.5 5.50e+01  -6.1 7.85e-01 1.00e+00h  1\n",
      "  73  1.2442087e+01 1.66e+02 1.72e-01  -2.5 9.32e+01  -6.6 1.00e+00 8.50e-01h  1\n",
      "  74  1.3093253e+01 5.55e+01 8.45e-02  -2.5 6.64e+01  -6.1 1.00e+00 1.00e+00h  1\n",
      "  75  1.1306266e+01 8.68e+00 1.11e-02  -2.5 3.23e+01  -5.7 1.00e+00 1.00e+00h  1\n",
      "  76  1.1333297e+01 6.31e+00 2.30e-03  -2.5 2.06e+01  -6.2 1.00e+00 1.00e+00h  1\n"
     ]
    }
   ],
   "source": [
    "opti.minimize(totalcost)\n",
    "opti.solver(\"ipopt\")  # set numerical backend\n",
    "opti.callback(lambda i: displayScene(opti.debug.value(var_xs[-1][:nq])))\n",
    "\n",
    "# Caution: in case the solver does not converge, we are picking the candidate values\n",
    "# at the last iteration in opti.debug, and they are NO guarantee of what they mean.\n",
    "try:\n",
    "    sol = opti.solve_limited()\n",
    "    sol_xs = [opti.value(var_x) for var_x in var_xs]\n",
    "    sol_as = [opti.value(var_a) for var_a in var_as]\n",
    "    sol_us = [opti.value(var_u) for var_u in var_us]\n",
    "except:\n",
    "    print(\"ERROR in convergence, plotting debug info.\")\n",
    "    sol_xs = [opti.debug.value(var_x) for var_x in var_xs]\n",
    "    sol_as = [opti.debug.value(var_a) for var_a in var_as]\n",
    "    sol_us = [opti.debug.value(var_u) for var_u in var_us]"
   ]
  },
  {
   "cell_type": "markdown",
   "metadata": {
    "id": "m6xKA266s4bo"
   },
   "source": [
    "As you can see it's quite expensive to get a solution for this kinodynamic planning problem! If you remove the dynamics constraints, the situation can be improved.  \n",
    "Let's play the final trajectory in the renderer."
   ]
  },
  {
   "cell_type": "code",
   "execution_count": null,
   "metadata": {
    "id": "DblVnhmfs4bo",
    "outputId": "0d780366-160a-40bb-c85a-60eb97cc442b"
   },
   "outputs": [
    {
     "name": "stdout",
     "output_type": "stream",
     "text": [
      "***** Display the resulting trajectory ...\n"
     ]
    }
   ],
   "source": [
    "print(\"***** Display the resulting trajectory ...\")\n",
    "displayScene(q, 1)\n",
    "displayTraj([x[:nq] for x in sol_xs], DT)"
   ]
  },
  {
   "cell_type": "code",
   "execution_count": null,
   "metadata": {
    "id": "XuKdBWcOs4bo"
   },
   "outputs": [],
   "source": []
  },
  {
   "cell_type": "code",
   "execution_count": null,
   "metadata": {
    "id": "9d9R3DFfs4bp",
    "outputId": "0a772c1e-7fe2-412e-ddd2-401a864524e2"
   },
   "outputs": [
    {
     "data": {
      "image/png": "[encoded data removed]",
      "text/plain": [
       "<Figure size 640x480 with 1 Axes>"
      ]
     },
     "metadata": {},
     "output_type": "display_data"
    }
   ],
   "source": [
    "torques = np.concatenate(sol_us).reshape(-1,3)\n",
    "import matplotlib.pyplot as plt\n",
    "plt.plot(torques)\n",
    "plt.xlabel(\"Time Steps\")\n",
    "plt.ylabel(\"Torque [N/m]\")\n",
    "plt.grid()\n",
    "plt.show()"
   ]
  },
  {
   "cell_type": "code",
   "execution_count": null,
   "metadata": {
    "id": "7tFQME2_s4bp"
   },
   "outputs": [],
   "source": [
    "rmodel = pen.model\n",
    "rdata = rmodel.createData()\n",
    "pin.framesForwardKinematics(rmodel, rdata, q)\n",
    "pin.updateFramePlacements(rmodel, rdata)\n",
    "start_x = rdata.oMf[4].translation[1:]\n",
    "goal_x = Mtarget.translation[1:]"
   ]
  },
  {
   "cell_type": "code",
   "execution_count": null,
   "metadata": {
    "id": "3kMRE2sws4bp"
   },
   "outputs": [],
   "source": [
    "class Node:\n",
    "    def __init__(self, value):\n",
    "        self.value = value\n",
    "        self.parent = None\n",
    "# RRT main()\n",
    "def rrt(start, goal, num_iterations, step_size, upperlim, lowerlim, obstacles=[]):\n",
    "    nodes = [Node(start)]\n",
    "    for _ in range(num_iterations):\n",
    "        rand_point = Node(np.random.uniform(lowerlim, upperlim))\n",
    "        nearest_node = min(nodes, key=lambda n: float(np.linalg.norm(n.value-rand_point.value)))\n",
    "        new_node = extend(nearest_node, rand_point, step_size)\n",
    "        new_node.parent = nearest_node\n",
    "        if not collides(new_node, obstacles):\n",
    "            nodes.append(new_node)\n",
    "            if distance(new_node, goal) < step_size:\n",
    "                goal_node = Node(goal)\n",
    "                goal_node.parent = new_node\n",
    "                nodes.append(goal_node)\n",
    "                return nodes\n",
    "        else:\n",
    "            continue\n",
    "    return None\n",
    "\n",
    "def extend(from_node, to_node, step_size):\n",
    "    normal_vector = to_node.value - from_node.value\n",
    "    normal_vector /= np.linalg.norm(normal_vector)\n",
    "    new_value = from_node.value + step_size * normal_vector\n",
    "    return Node(new_value)\n",
    "\n",
    "def distance(node, goal):\n",
    "    return np.linalg.norm(node.value - goal) # You may define other distance metrics\n",
    "\n",
    "# postprocess procedure to backtrack the tree.\n",
    "def backtrack(nodes):\n",
    "    path = []\n",
    "    current = nodes[-1]\n",
    "    while current:\n",
    "        path.insert(0, current.value)\n",
    "        current = current.parent\n",
    "    return path\n",
    "\n",
    "def collides(node, obstacles):\n",
    "    is_collides = False\n",
    "    for o in obstacles:\n",
    "        # obstacle position in ellipsoid (joint) frame\n",
    "        is_collides = np.linalg.norm(node.value - o.pos[1:]) <= (ob_radius + 0.1)\n",
    "        if is_collides:\n",
    "            return is_collides\n",
    "    return is_collides"
   ]
  },
  {
   "cell_type": "markdown",
   "metadata": {
    "id": "w5PRG70Ws4bp"
   },
   "source": [
    "Let's try to solve the problem trajectory optimization has done."
   ]
  },
  {
   "cell_type": "code",
   "execution_count": null,
   "metadata": {
    "id": "HUPVooE2s4bp"
   },
   "outputs": [],
   "source": [
    "rrt_result = rrt(start_x, goal_x, 2000, 0.15, np.array([3.,3.]), np.array([-3.,-3.]), obstacles)"
   ]
  },
  {
   "cell_type": "markdown",
   "metadata": {
    "id": "1O-g1tRWs4bp"
   },
   "source": [
    "You can notice the rrt planner is super fast to find a feasible solution, even it's written by python and use no fancy acceleration trick. But definitely not considering the optimality. You can improve it using the tricks introduced in Georgia's class. Let's fetch the path and render it."
   ]
  },
  {
   "cell_type": "code",
   "execution_count": null,
   "metadata": {
    "id": "6UsSVq21s4bp"
   },
   "outputs": [],
   "source": [
    "rrt_path = backtrack(rrt_result)"
   ]
  },
  {
   "cell_type": "code",
   "execution_count": null,
   "metadata": {
    "id": "0CzUrLgNs4bq"
   },
   "outputs": [],
   "source": [
    "for i, points in enumerate(rrt_path):\n",
    "    viz.addSphere(f\"path_point_{i}\", 0.02, [0.1, 0.9, 0.9, 0.9])\n",
    "    viz.applyConfiguration(f\"path_point_{i}\", pin.SE3(np.eye(3), np.concatenate([np.array([0]), points])))\n",
    "    displayScene(q)"
   ]
  },
  {
   "cell_type": "code",
   "execution_count": null,
   "metadata": {
    "id": "ZsxpQNqNs4bq",
    "outputId": "cde73998-629a-4483-c1d0-c620d78e3e6f"
   },
   "outputs": [
    {
     "data": {
      "text/html": [
       "\n",
       "            <div style=\"height: 400px; width: 100%; overflow-x: auto; overflow-y: hidden; resize: both\">\n",
       "            <iframe src=\"http://127.0.0.1:7000/static/\" style=\"width: 100%; height: 100%; border: none\"></iframe>\n",
       "            </div>\n",
       "            "
      ],
      "text/plain": [
       "<IPython.core.display.HTML object>"
      ]
     },
     "execution_count": 62,
     "metadata": {},
     "output_type": "execute_result"
    }
   ],
   "source": [
    "viz.viewer.jupyter_cell()"
   ]
  },
  {
   "cell_type": "markdown",
   "metadata": {
    "id": "xG9--IKTs4bq"
   },
   "source": [
    "Having found a feasible trajectory from start to finish, you can use the inverse kinematics controller introduced in the first problem to generate a smooth trajectory (geometric path with time allocation).\n",
    "Nowadays, many applications use the solution found by RRT as a warm start of the optimal control problem, which can speed up the solution.\n",
    "However, you should note that our optimizer is ipopt, so even if you use the exact solution, the optimizer will still need to update the dual variables for several iterations. You can try it with the following command.\n",
    "Therefore, RRT initialisation is usually less helpful in ipopt."
   ]
  },
  {
   "cell_type": "code",
   "execution_count": null,
   "metadata": {
    "id": "x9Mh-ngUs4bq"
   },
   "outputs": [],
   "source": [
    "# You can use this method to warm start the optimizer, before you call the limited_solve()\n",
    "opti.set_initial(sol.value_variables())"
   ]
  }
 ],
 "metadata": {
  "colab": {
   "provenance": []
  },
  "kernelspec": {
   "display_name": "Python 3 (ipykernel)",
   "language": "python",
   "name": "python3"
  },
  "language_info": {
   "codemirror_mode": {
    "name": "ipython",
    "version": 3
   },
   "file_extension": ".py",
   "mimetype": "text/x-python",
   "name": "python",
   "nbconvert_exporter": "python",
   "pygments_lexer": "ipython3",
   "version": "3.10.14"
  }
 },
 "nbformat": 4,
 "nbformat_minor": 4
}
