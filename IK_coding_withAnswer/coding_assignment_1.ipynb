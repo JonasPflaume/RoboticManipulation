{
 "cells": [
  {
   "cell_type": "markdown",
   "id": "4819e51d",
   "metadata": {},
   "source": [
    "## Numerical Inverse Kinematics (IK)\n",
    "\n",
    "You are expected to implement Jacobian transpose, Jacobian Pseudoinverse and Quadratic Programming (QP) based controller introduced in the lecture. "
   ]
  },
  {
   "cell_type": "code",
   "execution_count": 1,
   "id": "ba70dd50",
   "metadata": {},
   "outputs": [],
   "source": [
    "import numpy as np\n",
    "from numpy import nan\n",
    "import matplotlib.pyplot as plt\n",
    "import pinocchio as pin\n",
    "import os, subprocess\n",
    "import time"
   ]
  },
  {
   "cell_type": "markdown",
   "id": "68fb536f",
   "metadata": {},
   "source": [
    "### Pinocchio library for robot kinematics  \n",
    "We will use the Pinocchio library in this assignment to compute robots' kinematics.  \n",
    "Let's import a UR5 robot introduced in the lecture.  \n",
    "To visualize the robot you need to run gepetto-gui in a terminal under virtual environment ik_env."
   ]
  },
  {
   "cell_type": "code",
   "execution_count": 2,
   "id": "3ea25623",
   "metadata": {},
   "outputs": [],
   "source": [
    "from example_robot_data.robots_loader import load\n",
    "robot = load(\"ur5\") # let's use a ur-5 robot introduced in the course"
   ]
  },
  {
   "cell_type": "code",
   "execution_count": 3,
   "id": "ab746c9d",
   "metadata": {},
   "outputs": [
    {
     "name": "stdout",
     "output_type": "stream",
     "text": [
      "You can open the visualizer by visiting the following URL:\n",
      "http://127.0.0.1:7001/static/\n"
     ]
    }
   ],
   "source": [
    "Viewer = pin.visualize.GepettoVisualizer\n",
    "# Viewer = pin.visualize.MeshcatVisualizer\n",
    "\n",
    "viz = Viewer(robot.model, robot.collision_model, robot.visual_model)\n",
    "viz.initViewer(loadModel=True)\n",
    "viz.display(robot.q0) # visualize the default configuration of the robot."
   ]
  },
  {
   "cell_type": "markdown",
   "id": "12663e02",
   "metadata": {},
   "source": [
    "Pinocchio stores the robot models like link mass, geometric parameters in robot.model and intermediate compute results in rdata. In other words, you call function from pin, and use the parameters in model and store the results in rdata and they process this as separate data structure."
   ]
  },
  {
   "cell_type": "code",
   "execution_count": 4,
   "id": "707df8af",
   "metadata": {},
   "outputs": [],
   "source": [
    "rmodel = robot.model\n",
    "rdata = rmodel.createData()"
   ]
  },
  {
   "cell_type": "code",
   "execution_count": 5,
   "id": "bf86dfad",
   "metadata": {},
   "outputs": [],
   "source": [
    "# This initial configurate is chosen intentionally to showcase \n",
    "# the different impact for manipulability by different IK methods.\n",
    "q_rand = np.array([ 2.05563934, -1.68031123,  1.06696164, -3.92205628,  0.93923542,\n",
    "       -0.])\n",
    "q_curr = q_rand.copy()\n",
    "viz.display(q_curr)"
   ]
  },
  {
   "cell_type": "code",
   "execution_count": 6,
   "id": "7dfa64ad",
   "metadata": {},
   "outputs": [
    {
     "name": "stdout",
     "output_type": "stream",
     "text": [
      "universe\n",
      "shoulder_pan_joint\n",
      "shoulder_lift_joint\n",
      "elbow_joint\n",
      "wrist_1_joint\n",
      "wrist_2_joint\n",
      "wrist_3_joint\n",
      "Index of wrist_3_joint: 6\n"
     ]
    }
   ],
   "source": [
    "# To get the joint information\n",
    "for n in rmodel.names:\n",
    "    print(n)\n",
    "\n",
    "jointIndex = rmodel.getJointId(\"wrist_3_joint\")\n",
    "print(\"Index of wrist_3_joint:\", jointIndex)\n",
    "## the index of universe joint is 0"
   ]
  },
  {
   "cell_type": "code",
   "execution_count": 7,
   "id": "39fe8fac",
   "metadata": {
    "scrolled": true
   },
   "outputs": [
    {
     "name": "stdout",
     "output_type": "stream",
     "text": [
      "universe\n",
      "root_joint\n",
      "world\n",
      "world_joint\n",
      "base_link\n",
      "base_link-base_fixed_joint\n",
      "base\n",
      "shoulder_pan_joint\n",
      "shoulder_link\n",
      "shoulder_lift_joint\n",
      "upper_arm_link\n",
      "elbow_joint\n",
      "forearm_link\n",
      "wrist_1_joint\n",
      "wrist_1_link\n",
      "wrist_2_joint\n",
      "wrist_2_link\n",
      "wrist_3_joint\n",
      "wrist_3_link\n",
      "ee_fixed_joint\n",
      "ee_link\n",
      "wrist_3_link-tool0_fixed_joint\n",
      "tool0\n"
     ]
    }
   ],
   "source": [
    "# To get the frame information. Joint frame is movable, but other frames are supposed\n",
    "# to be rigidly attached to their parent joint frame.\n",
    "for f in robot.model.frames:\n",
    "    print(f.name)"
   ]
  },
  {
   "cell_type": "code",
   "execution_count": 8,
   "id": "0196d8a8",
   "metadata": {},
   "outputs": [
    {
     "name": "stdout",
     "output_type": "stream",
     "text": [
      "Index of tool frame:  22\n"
     ]
    },
    {
     "data": {
      "text/plain": [
       "  R =\n",
       "-0.762533 -0.458789 -0.456132\n",
       "-0.284201  0.870928 -0.400892\n",
       " 0.581183 -0.176061 -0.794499\n",
       "  p = -0.218529 0.0763896  0.688673"
      ]
     },
     "execution_count": 8,
     "metadata": {},
     "output_type": "execute_result"
    }
   ],
   "source": [
    "# compute the frame forward kinematics to get the pose information of each frame.\n",
    "pin.framesForwardKinematics(rmodel, rdata, q_curr)\n",
    "toolFrameIndex = rmodel.getFrameId('tool0')\n",
    "print(\"Index of tool frame: \", toolFrameIndex)\n",
    "# and we can easily get the SE3 pose of this frame\n",
    "rdata.oMf[toolFrameIndex]"
   ]
  },
  {
   "cell_type": "markdown",
   "id": "79f69e32",
   "metadata": {},
   "source": [
    "### Manipulability measure\n",
    "As we introduced in course this is a typical manipulability measure:\n",
    "$$w(q) = \\sqrt{det(J(q)J(q)^T)}$$"
   ]
  },
  {
   "cell_type": "code",
   "execution_count": 9,
   "id": "b75b9e54",
   "metadata": {},
   "outputs": [],
   "source": [
    "def manipulability(q:np.ndarray) -> float:\n",
    "    ''' q: shape (n,) numpy array\n",
    "        try to calc the manipulability, notice the output should be a scalar!\n",
    "    '''\n",
    "    _ = pin.computeJointJacobians(rmodel,rdata,q)\n",
    "    J = pin.getFrameJacobian(rmodel,rdata,toolFrameIndex,pin.LOCAL_WORLD_ALIGNED)\n",
    "    \n",
    "    #### Your Code Here!\n",
    "    man = np.sqrt(np.linalg.det(J@J.T))\n",
    "    ####\n",
    "    return man"
   ]
  },
  {
   "cell_type": "code",
   "execution_count": 10,
   "id": "b6384a37",
   "metadata": {},
   "outputs": [
    {
     "name": "stdout",
     "output_type": "stream",
     "text": [
      "Seems ok.\n"
     ]
    }
   ],
   "source": [
    "# test\n",
    "assert np.abs(manipulability(q_rand) - 0.02134) < 1e-4\n",
    "print(\"Seems ok.\")"
   ]
  },
  {
   "cell_type": "markdown",
   "id": "2f7467e9",
   "metadata": {},
   "source": [
    "### Jacobian transpose and Pseudoinverse law for inverse kinematics\n",
    "Let's implement a jacobian transpose and a pseudoinverse controller for IK. The goal is to put the end effector to a goal position.  \n",
    "For more details, check the slides of Lecture 2.\n",
    "\n",
    "But the basic idea is quite simple, with a p controller defined in cartesian space:\n",
    "$$ \\dot{x} = \\alpha (x_{des} - x)$$\n",
    "use need to use the techniques introduced in the lecture to generate joint space control. The gain $\\alpha$ needs to be selected by hands."
   ]
  },
  {
   "cell_type": "code",
   "execution_count": 11,
   "id": "86835855",
   "metadata": {},
   "outputs": [],
   "source": [
    "# the goal position in cartesian space and mark it as a purple marker.\n",
    "p_des = np.array([-0.5,-0.5,0.1]) # you can play around with this position\n",
    "import vizutils\n",
    "vizutils.addViewerSphere(viz,'world/ball', .02, [.8, .2, 1., .5])\n",
    "vizutils.applyViewerConfiguration(viz, 'world/ball', p_des.tolist()+[1, 0, 0, 0])"
   ]
  },
  {
   "cell_type": "code",
   "execution_count": 12,
   "id": "d83b8126",
   "metadata": {},
   "outputs": [],
   "source": [
    "def JacobianTransposeCtl(Jacobian:np.ndarray, error:np.ndarray, gain:float) -> np.ndarray:\n",
    "    ''' Input:\n",
    "                Jacobian: For UR5, it is a 3 by 6 position Jacobian, \n",
    "                          because we only concern about the position control thus \n",
    "                          it is a redundant system.\n",
    "                error:    3 by 1 position error\n",
    "                gain:     hand-tuned propotional gain\n",
    "        Output:\n",
    "                v_ctr:    joint velocity control, 6 by 1 vector\n",
    "    '''\n",
    "    #### Your Code Here!\n",
    "    v_ctl = v_ctl = gain * Jacobian.T @ x_error\n",
    "    ####\n",
    "    return v_ctl\n",
    "\n",
    "def JacobianPseudoinverseCtl(Jacobian, error, gain):\n",
    "    ''' The definition is similar to JacobianTransposeCtl\n",
    "        tips:\n",
    "                sometimes M @ M.T can be singular, you may want to add a small number to the diagonal entries\n",
    "                of this matrix to avoid weird action, e.g. joint velocity is infinite. This approach can be\n",
    "                shown to be equivalent to the Levenberg-damping in numerical optimization.\n",
    "    '''\n",
    "    #### Your Code Here!\n",
    "    v_ctl = gain * Jacobian.T @ np.linalg.inv(Jacobian@Jacobian.T + np.eye(3)*1e-4) @ error\n",
    "    ####\n",
    "    return v_ctl"
   ]
  },
  {
   "cell_type": "code",
   "execution_count": null,
   "id": "dc67bc82",
   "metadata": {},
   "outputs": [
    {
     "name": "stdout",
     "output_type": "stream",
     "text": [
      "Run the  jt  controller\n"
     ]
    }
   ],
   "source": [
    "dt = 1e-3\n",
    "\n",
    "jt_man = []\n",
    "ji_man = []\n",
    "\n",
    "# control loop\n",
    "for controller in [\"jt\", \"ji\"]:\n",
    "    print(\"Run the \", controller, \" controller\")\n",
    "    if controller == \"jt\":\n",
    "        control_func = JacobianTransposeCtl\n",
    "        p_gain = 5.\n",
    "    else:\n",
    "        control_func = JacobianPseudoinverseCtl\n",
    "        p_gain = 0.5\n",
    "    error = float(\"inf\")\n",
    "    while not error < 1e-3:\n",
    "        p_curr = rdata.oMf[toolFrameIndex].translation.copy()\n",
    "        if controller == \"jt\":\n",
    "            jt_man_i = manipulability(q_curr)\n",
    "            jt_man.append(jt_man_i.reshape(1,-1))\n",
    "        elif controller == \"ji\":\n",
    "            ji_man_i = manipulability(q_curr)\n",
    "            ji_man.append(ji_man_i.reshape(1,-1))\n",
    "\n",
    "        _ = pin.computeJointJacobians(rmodel,rdata,q_curr)\n",
    "        pin.framesForwardKinematics(rmodel, rdata, q_curr)\n",
    "        Jee = pin.getFrameJacobian(rmodel,rdata,toolFrameIndex,pin.LOCAL_WORLD_ALIGNED)\n",
    "        # we only need position jacobian, therefore this is a redundant control problem.\n",
    "        Jp = Jee[:3,:]\n",
    "\n",
    "        position_error = p_des - p_curr\n",
    "        x_error = position_error\n",
    "\n",
    "        # tune the position gain to make the movement reasonable\n",
    "        v_control = control_func(Jp, x_error, p_gain)\n",
    "\n",
    "        q_curr += dt*v_control\n",
    "        viz.display(q_curr)\n",
    "        error = np.linalg.norm(x_error)\n",
    "        time.sleep(dt)\n",
    "    \n",
    "#     reset the configuration\n",
    "    q_curr = q_rand.copy()\n",
    "    pin.framesForwardKinematics(rmodel, rdata, q_curr)\n",
    "    viz.display(q_curr)"
   ]
  },
  {
   "cell_type": "markdown",
   "id": "a12896ae",
   "metadata": {},
   "source": [
    "As we expected the jacobian transpose will converge slower than jacobian pseudoinverse. Recall in numerical optimization, the gradient descent method (jacobian transpose) will be slower than newton method (jacobian pseudoinverse). This trick can be used to generate more complicated motion in cartesian space, like a circle or square. The only thing you need is to make the target position moving through your desired path."
   ]
  },
  {
   "cell_type": "markdown",
   "id": "0a96b303",
   "metadata": {},
   "source": [
    "### Quadractic Programming (QP)-based IK with manipulability maximization\n",
    "We can also formulate the control as an optimization problem\n",
    "$$\\begin{split}\n",
    "\\min_{\\dot{q}} \\frac{1}{2} ||\\dot{q}&-\\dot{q}_0||^{2}_{2}\\\\\n",
    "\\text{s.t.} \\quad \\dot{x}&=J\\dot{q} \\\\\n",
    "\\dot{q}_0 &= k_0 (\\frac{\\partial w(q)}{\\partial q})^T\\\\\n",
    "q_{min}& \\leq \\dot{q} \\leq q_{max}\n",
    "\\end{split}$$\n",
    "It can be shown that the solution of this optimization is to guarantee the cartesian space velocity $\\dot{x}$ as the primary task while trying to achieve a secondary task whose objective function is defined as $w(q)$.   \n",
    "The constant values in this QP problem is the cartesian velocity $\\dot{x}$ that has to be designed by cartesian space control and the secondary objective function $w(q)$. We will set the secondary task $w(q)$ as manipulability maximization as\n",
    "\n",
    "$$w(q) = \\sqrt{det(J(q)J(q)^T)}.$$\n",
    "And you probably have found that to compute the partial derivative to get $\\dot{q}_0$, we will confront the derivation of $\\partial J(q) / \\partial q$ which is not trivial. For this task, we only need to work out the finite difference solution by $[\\frac{\\partial w(q)}{\\partial q}]_i = \\frac{f(q+\\delta_{q_i})-f(q)}{\\delta_{q_i}}$, where $[.]_i$ denotes the $i$th entry and $\\delta_{q_i}$ is a small scalar perturbation added to $i$th joint. Here we have spoilt the notation and added scalar $\\delta_{q_i}$ to the corresponding joint angle in $q$."
   ]
  },
  {
   "cell_type": "markdown",
   "id": "ce1bd247",
   "metadata": {},
   "source": [
    "Let's use the most commonly used optimization library qpsolvers.\n",
    "Introduction: https://qpsolvers.github.io/qpsolvers/quadratic-programming.html  \n",
    "Just read a bit how can we formulate a qp problem."
   ]
  },
  {
   "cell_type": "code",
   "execution_count": 17,
   "id": "5174c3e9",
   "metadata": {},
   "outputs": [],
   "source": [
    "from qpsolvers import solve_qp"
   ]
  },
  {
   "cell_type": "code",
   "execution_count": 18,
   "id": "2f60a5b2",
   "metadata": {},
   "outputs": [],
   "source": [
    "# let's get the joint velocity bound constraints\n",
    "# With optimization-based controller the robot can generate more reasonable motion w.r.t velocity\n",
    "vmax = rmodel.velocityLimit.copy()\n",
    "vmin = -rmodel.velocityLimit.copy()"
   ]
  },
  {
   "cell_type": "code",
   "execution_count": 19,
   "id": "3c740a3f",
   "metadata": {},
   "outputs": [],
   "source": [
    "# below is a sloppy implementation of the finite-difference gradient for subtask\n",
    "def get_dot_q0(curr_q, k0=1., delta=0.001):\n",
    "    ''' curr_q:    current joint angle\n",
    "        k0:        gain of the subtask\n",
    "        delta:     small perturbation to the input\n",
    "    '''\n",
    "    n = len(curr_q)\n",
    "    man_gradient = np.zeros((n,))\n",
    "    for i in range(n):\n",
    "        curr_man = manipulability(curr_q)\n",
    "        purterb_q = curr_q.copy()\n",
    "        purterb_q[i] += delta\n",
    "        disturbed_man = manipulability(purterb_q)\n",
    "        man_gradient[i] = (disturbed_man - curr_man) / delta\n",
    "        \n",
    "    dot_q0 = man_gradient\n",
    "    return dot_q0\n",
    "\n",
    "def generateQP(dot_q0, Jacobian, x_dot):\n",
    "    ''' \n",
    "    Input:\n",
    "            dot_q0:    subtask gradient\n",
    "            Jacobian:  Jacobian matrix with shape (3,6)\n",
    "            x_dot:     desired cartesian velocity of the end-effector\n",
    "    Output:\n",
    "            P:         Quadratic term in QP objective\n",
    "            q:         linear term in QP objective\n",
    "            A:         coefficient term in QP equality constraint\n",
    "            b:         target term in QP equality constraint\n",
    "            \n",
    "    We can define the joint velocity limit as inquality constraints, but \n",
    "    the QP solver has a better (faster) way to deal with these \"bound\" constraints, thus \n",
    "    they are defined in the solver function. Check the code for details.\n",
    "    You will need to check https://qpsolvers.github.io/qpsolvers/quadratic-programming.html\n",
    "    '''\n",
    "    #### Your Code Here!\n",
    "    n = len(dot_q0)\n",
    "    P = 0.5*np.eye(n)\n",
    "    q = -dot_q0\n",
    "    A = Jacobian\n",
    "    b = x_dot\n",
    "    ####\n",
    "    return P, q, A, b"
   ]
  },
  {
   "cell_type": "code",
   "execution_count": 20,
   "id": "73b764d4",
   "metadata": {},
   "outputs": [
    {
     "name": "stderr",
     "output_type": "stream",
     "text": [
      "/home/jiayun/miniconda3/envs/ik_env/lib/python3.10/site-packages/qpsolvers/conversions/ensure_sparse_matrices.py:38: UserWarning: Converted P to scipy.sparse.csc.csc_matrix\n",
      "For best performance, build P as a scipy.sparse.csc_matrix rather than as a numpy.ndarray\n",
      "  warnings.warn(\n",
      "/home/jiayun/miniconda3/envs/ik_env/lib/python3.10/site-packages/qpsolvers/conversions/ensure_sparse_matrices.py:38: UserWarning: Converted A to scipy.sparse.csc.csc_matrix\n",
      "For best performance, build A as a scipy.sparse.csc_matrix rather than as a numpy.ndarray\n",
      "  warnings.warn(\n"
     ]
    }
   ],
   "source": [
    "# control loop\n",
    "error = float(\"inf\")\n",
    "p_gain = 0.5\n",
    "subtask_gain = 1000\n",
    "\n",
    "qp_man = []\n",
    "acc_factor = 1.1\n",
    "while not error < 1e-3:\n",
    "    pin.framesForwardKinematics(rmodel, rdata, q_curr)\n",
    "    p_curr = rdata.oMf[toolFrameIndex].translation.copy()\n",
    "    \n",
    "    qp_man_i = manipulability(q_curr)\n",
    "    qp_man.append(qp_man_i.reshape(1,-1))\n",
    "    _ = pin.computeJointJacobians(rmodel,rdata,q_curr)\n",
    "    Jee = pin.getFrameJacobian(rmodel,rdata,toolFrameIndex,pin.LOCAL_WORLD_ALIGNED)\n",
    "    Jp = Jee[:3,:]\n",
    "    \n",
    "    position_error = p_des - p_curr\n",
    "#     x_error = np.concatenate([position_error, np.zeros((3,))])\n",
    "    x_dot = p_gain * position_error\n",
    "\n",
    "    dot_q0 = get_dot_q0(q_curr, k0=subtask_gain)\n",
    "    P, q, A, b = generateQP(dot_q0, Jp, x_dot)\n",
    "    v_control = solve_qp(P, q, A=A, b=b, lb=vmin, ub=vmax, solver=\"osqp\") # bound constraints defined here.\n",
    "    if type(v_control) != np.ndarray:\n",
    "        # if the cartesian velocity was too large, the qp solver will return None.\n",
    "        # we reduce the gain and run the solver again...\n",
    "        p_gain *= 0.9\n",
    "        continue\n",
    "    \n",
    "    q_curr += dt*v_control\n",
    "    \n",
    "    viz.display(q_curr)\n",
    "    error = np.linalg.norm(position_error)\n",
    "    time.sleep(dt)"
   ]
  },
  {
   "cell_type": "markdown",
   "id": "786f4e79",
   "metadata": {},
   "source": [
    "Check the different final poses by these controllers. The QP controller will generate the final pose which is more \"manipulable\"."
   ]
  },
  {
   "cell_type": "code",
   "execution_count": 21,
   "id": "d2dd2a91",
   "metadata": {},
   "outputs": [],
   "source": [
    "# reset the robot\n",
    "q_curr = q_rand.copy()\n",
    "pin.framesForwardKinematics(rmodel, rdata, q_curr)\n",
    "viz.display(q_curr)"
   ]
  },
  {
   "cell_type": "code",
   "execution_count": 22,
   "id": "27203952",
   "metadata": {},
   "outputs": [],
   "source": [
    "# prepare the data to visualization\n",
    "jt_man = np.concatenate(jt_man)\n",
    "ji_man = np.concatenate(ji_man)\n",
    "qp_man = np.concatenate(qp_man)"
   ]
  },
  {
   "cell_type": "code",
   "execution_count": 23,
   "id": "a69a5f02",
   "metadata": {},
   "outputs": [
    {
     "data": {
      "image/png": "[encoded data removed]",
      "text/plain": [
       "<Figure size 1500x300 with 3 Axes>"
      ]
     },
     "metadata": {},
     "output_type": "display_data"
    }
   ],
   "source": [
    "# showcase the variation of manipulability during these reaching processes\n",
    "plt.figure(figsize=[15,3])\n",
    "plt.subplot(131)\n",
    "plt.ylabel(\"Manipulability\")\n",
    "plt.xlabel(\"time step\")\n",
    "plt.title(\"Jacobian Transpose\")\n",
    "plt.grid()\n",
    "plt.plot(jt_man)\n",
    "plt.subplot(132)\n",
    "plt.xlabel(\"time step\")\n",
    "plt.title(\"Jacobian Pseudoinverse\")\n",
    "plt.plot(ji_man)\n",
    "plt.grid()\n",
    "plt.subplot(133)\n",
    "plt.plot(qp_man)\n",
    "plt.xlabel(\"time step\")\n",
    "plt.title(\"QP with Man-Max\")\n",
    "plt.grid()\n",
    "plt.show()"
   ]
  },
  {
   "cell_type": "markdown",
   "id": "af4f00ef",
   "metadata": {},
   "source": [
    "Notice when the impact from cartesian-velocity constraints becomes weaker, the QP controller will then generate different behaviour compared with the JT and JI controller to maximize the manipulability through null-space motion."
   ]
  },
  {
   "cell_type": "markdown",
   "id": "69a28c98",
   "metadata": {},
   "source": [
    "### Conclusion\n",
    "Jacobian transpose will converge slower than jacobian pseudoinverse control.  \n",
    "The QP-based IK can be utilized to achieve sub-tasks using the null-space motion of the manipulator. You can check the poses of the manipulator and the QP-based IK will generate a more \"comfortable\" pose compared with the JT and JI control.\n",
    "\n",
    "|![](ji.png)|![](qp.png)|\n",
    "|:-:|:-:|\n",
    "|Jacobian Pseudoinverse|Quadratic Programming|"
   ]
  },
  {
   "cell_type": "code",
   "execution_count": null,
   "id": "6d8e9dab",
   "metadata": {},
   "outputs": [],
   "source": []
  }
 ],
 "metadata": {
  "kernelspec": {
   "display_name": "ik_env",
   "language": "python",
   "name": "ik_env"
  },
  "language_info": {
   "codemirror_mode": {
    "name": "ipython",
    "version": 3
   },
   "file_extension": ".py",
   "mimetype": "text/x-python",
   "name": "python",
   "nbconvert_exporter": "python",
   "pygments_lexer": "ipython3",
   "version": "3.9.18"
  }
 },
 "nbformat": 4,
 "nbformat_minor": 5
}
